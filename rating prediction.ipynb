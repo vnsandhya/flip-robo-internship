{
 "cells": [
  {
   "cell_type": "code",
   "execution_count": null,
   "id": "795f1806",
   "metadata": {},
   "outputs": [],
   "source": [
    "import pandas as pd\n",
    "import numpy as np\n",
    "from bs4 import BeautifulSoup\n",
    "import selenium.webdriver\n",
    "from selenium import webdriver \n",
    "from datetime import date \n",
    "from selenium.webdriver.support.ui import WebDriverWait\n",
    "from selenium.webdriver.support import expected_conditions as EC \n",
    "from selenium.webdriver.common.by import By\n",
    "from dateutil.relativedelta import relativedelta\n",
    "import csv\n",
    "import linecache\n",
    "import sys\n",
    "import matplotlib.pyplot as plt\n",
    "import seaborn as sns\n",
    "import datetime as dt\n",
    "import time\n",
    "\n",
    "import warnings\n",
    "warnings.filterwarnings('ignore')"
   ]
  },
  {
   "cell_type": "code",
   "execution_count": null,
   "id": "7e098a39",
   "metadata": {},
   "outputs": [],
   "source": [
    "# Connect to Driver\n",
    "\n",
    "driver=webdriver.Chrome(r'C:/chromedriver_win32/chromedriver.exe')\n",
    "driver.maximize_window()\n",
    "\n",
    "url='https://www.flipkart.com/boat-blitz-1500-multimedia-50-w-bluetooth-home-theatre/product-reviews/itma1eb339f35e7f?pid=ACCFYWX3SM6EUDBC&lid=LSTACCFYWX3SM6EUDBCAMU1XX&aid=overall&certifiedBuyer=false&sortOrder=NEGATIVE_FIRST&page=13'\n",
    "driver.get(url)"
   ]
  },
  {
   "cell_type": "code",
   "execution_count": null,
   "id": "4aa6122a",
   "metadata": {},
   "outputs": [],
   "source": [
    "# Close login page\n",
    "try:\n",
    "    login_page=driver.find_element_by_xpath('/html/body/div[2]/div/div/button')\n",
    "    login_page.click()\n",
    "except: pass"
   ]
  },
  {
   "cell_type": "code",
   "execution_count": null,
   "id": "81618789",
   "metadata": {},
   "outputs": [],
   "source": [
    "# How many pages to scrap\n",
    "start=0\n",
    "end=250\n",
    "\n",
    "# create empty list to save scrapped data\n",
    "\n",
    "rating=[]\n",
    "title=[]\n",
    "review=[]"
   ]
  },
  {
   "cell_type": "code",
   "execution_count": null,
   "id": "fe7ff836",
   "metadata": {},
   "outputs": [],
   "source": [
    "start=0\n",
    "end=200\n",
    "for page in range(start, end):\n",
    "    time.sleep(4)\n",
    "    ratings= driver.find_elements_by_xpath('//div[@class=\"col _2wzgFH K0kLPL\"]/div[1]/div[1]')\n",
    "    titles= driver.find_elements_by_xpath(\"//p[@class='_2-N8zT']\")\n",
    "    reviews=driver.find_elements_by_xpath(\"//div[@class='t-ZTKy']\")\n",
    "    \n",
    "    for i in ratings:\n",
    "        rating.append(i.text)\n",
    "    for j in titles:\n",
    "        title.append(j.text)\n",
    "    for k in reviews:\n",
    "        review.append(k.text)\n",
    "    next_button= driver.find_elements_by_xpath('//a[@class=\"_1LKTO3\"]')\n",
    "    try:\n",
    "        driver.get(next_button[1].get_attribute('href'))\n",
    "        \n",
    "    except:\n",
    "        driver.get(next_button[0].get_attribute('href'))\n",
    "        \n",
    "        \n",
    "\n",
    "        \n",
    "    \n",
    "len(rating), len(title), len(review)"
   ]
  },
  {
   "cell_type": "code",
   "execution_count": null,
   "id": "4ec05065",
   "metadata": {},
   "outputs": [],
   "source": [
    "pd.DataFrame({\"Title\":title,\"Review\":review,\"Rating\":rating})"
   ]
  },
  {
   "cell_type": "code",
   "execution_count": null,
   "id": "30cf25a9",
   "metadata": {},
   "outputs": [],
   "source": [
    "watch1=pd.DataFrame({\"Title\":title,\"Review\":review,\"Rating\":rating})\n",
    "watch2=pd.DataFrame({\"Title\":title,\"Review\":review,\"Rating\":rating})\n",
    "watch3=pd.DataFrame({\"Title\":title,\"Review\":review,\"Rating\":rating})\n",
    "watch4=pd.DataFrame({\"Title\":title,\"Review\":review,\"Rating\":rating})\n",
    "watch5=pd.DataFrame({\"Title\":title,\"Review\":review,\"Rating\":rating})\n",
    "camera=pd.DataFrame({\"Title\":title,\"Review\":review,\"Rating\":rating})\n",
    "printer=pd.DataFrame({\"Title\":title,\"Review\":review,\"Rating\":rating})"
   ]
  },
  {
   "cell_type": "code",
   "execution_count": null,
   "id": "762a9901",
   "metadata": {},
   "outputs": [],
   "source": [
    "q=pd.DataFrame({\"Title\":title,\"Review\":review,\"Rating\":rating})\n",
    "q1=pd.DataFrame({\"Title\":title,\"Review\":review,\"Rating\":rating})\n",
    "q2=pd.DataFrame({\"Title\":title,\"Review\":review,\"Rating\":rating})\n",
    "q3=pd.DataFrame({\"Title\":title,\"Review\":review,\"Rating\":rating})\n",
    "q3"
   ]
  },
  {
   "cell_type": "code",
   "execution_count": null,
   "id": "b23e9658",
   "metadata": {},
   "outputs": [],
   "source": [
    "pd.concat([watch1,watch2,watch3,watch4,watch5,camera,printer], ignore_index = True).to_csv('data1.csv')"
   ]
  }
 ],
 "metadata": {
  "kernelspec": {
   "display_name": "Python 3 (ipykernel)",
   "language": "python",
   "name": "python3"
  },
  "language_info": {
   "codemirror_mode": {
    "name": "ipython",
    "version": 3
   },
   "file_extension": ".py",
   "mimetype": "text/x-python",
   "name": "python",
   "nbconvert_exporter": "python",
   "pygments_lexer": "ipython3",
   "version": "3.9.7"
  }
 },
 "nbformat": 4,
 "nbformat_minor": 5
}
